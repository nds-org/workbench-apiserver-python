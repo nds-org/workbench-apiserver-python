{
 "cells": [
  {
   "cell_type": "markdown",
   "metadata": {},
   "source": [
    "# How to use the kube client in api server\n",
    "The existing workbench leveraged `ReplicationController`(https://kubernetes.io/docs/concepts/workloads/controllers/replicationcontroller/). At this point, a `Deployment` that configures a `ReplicaSet` is now the recommended way to set up replication.\n",
    "https://kubernetes.io/docs/concepts/workloads/controllers/deployment/\n",
    "- [Access Clusters Using the Kubernetes API](https://kubernetes.io/docs/tasks/administer-cluster/access-cluster-api/)\n",
    "- [Python Client Examples](https://github.com/kubernetes-client/python/tree/master/examples)\n"
   ]
  },
  {
   "cell_type": "markdown",
   "metadata": {},
   "source": [
    "## Check running kube cluster"
   ]
  },
  {
   "cell_type": "code",
   "execution_count": 9,
   "metadata": {},
   "outputs": [
    {
     "name": "stdout",
     "output_type": "stream",
     "text": [
      "Listing pods with their IPs:\n",
      "172.17.0.3\tRunning\tdefault\tbusybox-test\n",
      "172.17.0.8\tRunning\tdefault\thello-minikube\n",
      "172.17.0.7\tRunning\tdefault\twordpress-c76fbfd95-cqg4p\n",
      "172.17.0.10\tRunning\tdefault\twordpress-mysql-b5d56c447-v2d8d\n",
      "172.17.0.2\tRunning\tkube-system\tcoredns-74ff55c5b-l6t4s\n",
      "192.168.64.4\tRunning\tkube-system\tetcd-minikube\n",
      "172.17.0.9\tRunning\tkube-system\tingress-nginx-controller-65cf89dc4f-s2t59\n",
      "192.168.64.4\tRunning\tkube-system\tkube-apiserver-minikube\n",
      "192.168.64.4\tRunning\tkube-system\tkube-controller-manager-minikube\n",
      "192.168.64.4\tRunning\tkube-system\tkube-proxy-swdlv\n",
      "192.168.64.4\tRunning\tkube-system\tkube-scheduler-minikube\n",
      "172.17.0.4\tRunning\tkube-system\tnfs-provisioner-76b9b4576-d5rkh\n",
      "192.168.64.4\tRunning\tkube-system\tstorage-provisioner\n",
      "172.17.0.6\tRunning\tkubernetes-dashboard\tdashboard-metrics-scraper-f6647bd8c-cxbmn\n",
      "172.17.0.5\tRunning\tkubernetes-dashboard\tkubernetes-dashboard-968bcb79-gc4xp\n"
     ]
    }
   ],
   "source": [
    "from kubernetes import client, config\n",
    "\n",
    "# Configs can be set in Configuration class directly or using helper utility\n",
    "config.load_kube_config()\n",
    "\n",
    "v1 = client.CoreV1Api()\n",
    "print(\"Listing pods with their IPs:\")\n",
    "ret = v1.list_pod_for_all_namespaces(watch=False)\n",
    "for i in ret.items:\n",
    "    print(\"%s\\t%s\\t%s\\t%s\" % (i.status.pod_ip, i.status.phase, i.metadata.namespace, i.metadata.name))"
   ]
  },
  {
   "cell_type": "code",
   "execution_count": 2,
   "metadata": {},
   "outputs": [
    {
     "name": "stdout",
     "output_type": "stream",
     "text": [
      "Supported APIs (* is preferred version):\n",
      "core                                     v1\n",
      "apiregistration.k8s.io                   *v1,v1beta1\n",
      "apps                                     v1\n",
      "events.k8s.io                            *v1,v1beta1\n",
      "authentication.k8s.io                    *v1,v1beta1\n",
      "authorization.k8s.io                     *v1,v1beta1\n",
      "autoscaling                              *v1,v2beta1,v2beta2\n",
      "batch                                    *v1,v1beta1\n",
      "certificates.k8s.io                      *v1,v1beta1\n",
      "networking.k8s.io                        *v1,v1beta1\n",
      "extensions                               v1beta1\n",
      "policy                                   v1beta1\n",
      "rbac.authorization.k8s.io                *v1,v1beta1\n",
      "storage.k8s.io                           *v1,v1beta1\n",
      "admissionregistration.k8s.io             *v1,v1beta1\n",
      "apiextensions.k8s.io                     *v1,v1beta1\n",
      "scheduling.k8s.io                        *v1,v1beta1\n",
      "coordination.k8s.io                      *v1,v1beta1\n",
      "node.k8s.io                              *v1,v1beta1\n",
      "discovery.k8s.io                         v1beta1\n",
      "flowcontrol.apiserver.k8s.io             v1beta1\n"
     ]
    }
   ],
   "source": [
    "from kubernetes import client, config\n",
    "\n",
    "\n",
    "def main():\n",
    "    # Configs can be set in Configuration class directly or using helper\n",
    "    # utility. If no argument provided, the config will be loaded from\n",
    "    # default location.\n",
    "    config.load_kube_config()\n",
    "\n",
    "    print(\"Supported APIs (* is preferred version):\")\n",
    "    print(\"%-40s %s\" %\n",
    "          (\"core\", \",\".join(client.CoreApi().get_api_versions().versions)))\n",
    "    for api in client.ApisApi().get_api_versions().groups:\n",
    "        versions = []\n",
    "        for v in api.versions:\n",
    "            name = \"\"\n",
    "            if v.version == api.preferred_version.version and len(\n",
    "                    api.versions) > 1:\n",
    "                name += \"*\"\n",
    "            name += v.version\n",
    "            versions.append(name)\n",
    "        print(\"%-40s %s\" % (api.name, \",\".join(versions)))\n",
    "\n",
    "\n",
    "if __name__ == '__main__':\n",
    "    main()"
   ]
  },
  {
   "cell_type": "markdown",
   "metadata": {},
   "source": [
    "## How to create a Deployment\n",
    "- https://github.com/kubernetes-client/python/blob/master/examples/notebooks/create_deployment.ipynb"
   ]
  },
  {
   "cell_type": "markdown",
   "metadata": {},
   "source": [
    "### 1. Load config"
   ]
  },
  {
   "cell_type": "code",
   "execution_count": 60,
   "metadata": {},
   "outputs": [
    {
     "data": {
      "text/plain": [
       "<kubernetes.client.api.apps_v1_api.AppsV1Api at 0x113c57e50>"
      ]
     },
     "execution_count": 60,
     "metadata": {},
     "output_type": "execute_result"
    }
   ],
   "source": [
    "from kubernetes import client, config\n",
    "\n",
    "LABELS = {\"app\": \"nginx\"}\n",
    "DEPLOYMENT_NAME = \"nginx-deployment\"\n",
    "\n",
    "# Load config from default location\n",
    "config.load_kube_config()\n",
    "apps_api = client.AppsV1Api()\n",
    "\n",
    "apps_api"
   ]
  },
  {
   "cell_type": "markdown",
   "metadata": {},
   "source": [
    "### 2. Pod container"
   ]
  },
  {
   "cell_type": "code",
   "execution_count": 61,
   "metadata": {},
   "outputs": [],
   "source": [
    "# Configure Pod template container\n",
    "container = client.V1Container(\n",
    "    name = \"nginx\",\n",
    "    image=\"nginx:1.15.4\",\n",
    "    ports=[client.V1ContainerPort(container_port=80)],\n",
    "    resources=client.V1ResourceRequirements(\n",
    "        requests={\"cpu\": \"100m\", \"memory\":\"200Mi\"},\n",
    "        limits={\"cpu\": \"500m\", \"memory\":\"500Mi\"},\n",
    "    ),\n",
    ")\n",
    "\n",
    "#container"
   ]
  },
  {
   "cell_type": "markdown",
   "metadata": {},
   "source": [
    "### 3. Spec section"
   ]
  },
  {
   "cell_type": "code",
   "execution_count": 62,
   "metadata": {},
   "outputs": [],
   "source": [
    "template = client.V1PodTemplateSpec(\n",
    "    metadata=client.V1ObjectMeta(labels=LABELS),\n",
    "    spec=client.V1PodSpec(containers=[container]),\n",
    ")\n",
    "\n",
    "#template"
   ]
  },
  {
   "cell_type": "markdown",
   "metadata": {},
   "source": [
    "### 4. Specification of deployment"
   ]
  },
  {
   "cell_type": "code",
   "execution_count": 64,
   "metadata": {},
   "outputs": [],
   "source": [
    "spec = client.V1DeploymentSpec(\n",
    "    replicas=1,\n",
    "    template=template,\n",
    "    selector=client.V1LabelSelector(match_labels=LABELS)\n",
    ")\n",
    "\n",
    "#spec"
   ]
  },
  {
   "cell_type": "markdown",
   "metadata": {},
   "source": [
    "### 5. Instantiate the deployment object"
   ]
  },
  {
   "cell_type": "code",
   "execution_count": 65,
   "metadata": {},
   "outputs": [],
   "source": [
    "deployment = client.V1Deployment(\n",
    "    api_version=\"apps/v1\",\n",
    "    kind=\"Deployment\",\n",
    "    metadata=client.V1ObjectMeta(name=DEPLOYMENT_NAME),\n",
    "    spec=spec,\n",
    ")\n",
    "\n",
    "#deployment"
   ]
  },
  {
   "cell_type": "markdown",
   "metadata": {},
   "source": [
    "### 6. Create deployment"
   ]
  },
  {
   "cell_type": "code",
   "execution_count": 66,
   "metadata": {},
   "outputs": [],
   "source": [
    "def create_deployment(api, deployment):\n",
    "    # Create deployement\n",
    "    resp = api.create_namespaced_deployment(\n",
    "        body=deployment, namespace=\"default\"\n",
    "    )\n",
    "\n",
    "    print(\"\\n[INFO] deployment `nginx-deployment` created.\\n\")\n",
    "    print(\"%s\\t%s\\t\\t\\t%s\\t%s\" % (\"NAMESPACE\", \"NAME\", \"REVISION\", \"IMAGE\"))\n",
    "    print(\n",
    "        \"%s\\t\\t%s\\t%s\\t\\t%s\\n\"\n",
    "        % (\n",
    "            resp.metadata.namespace,\n",
    "            resp.metadata.name,\n",
    "            resp.metadata.generation,\n",
    "            resp.spec.template.spec.containers[0].image,\n",
    "        )\n",
    "    )\n"
   ]
  },
  {
   "cell_type": "code",
   "execution_count": 68,
   "metadata": {},
   "outputs": [
    {
     "name": "stdout",
     "output_type": "stream",
     "text": [
      "\n",
      "[INFO] deployment `nginx-deployment` created.\n",
      "\n",
      "NAMESPACE\tNAME\t\t\tREVISION\tIMAGE\n",
      "default\t\tnginx-deployment\t1\t\tnginx:1.15.4\n",
      "\n"
     ]
    }
   ],
   "source": [
    "create_deployment(apps_api, deployment)"
   ]
  },
  {
   "cell_type": "markdown",
   "metadata": {},
   "source": [
    "### 7. Delete deployment"
   ]
  },
  {
   "cell_type": "code",
   "execution_count": 56,
   "metadata": {},
   "outputs": [],
   "source": [
    "def delete_deployment(api):\n",
    "    # Delete deployment\n",
    "    resp = api.delete_namespaced_deployment(\n",
    "        name=DEPLOYMENT_NAME,\n",
    "        namespace=\"default\",\n",
    "        body=client.V1DeleteOptions(\n",
    "            propagation_policy=\"Foreground\", grace_period_seconds=5\n",
    "        ),\n",
    "    )\n",
    "    print(\"\\n[INFO] deployment `nginx-deployment` deleted.\")\n"
   ]
  },
  {
   "cell_type": "code",
   "execution_count": 59,
   "metadata": {
    "scrolled": true
   },
   "outputs": [
    {
     "name": "stdout",
     "output_type": "stream",
     "text": [
      "\n",
      "[INFO] deployment `nginx-deployment` deleted.\n"
     ]
    }
   ],
   "source": [
    "delete_deployment(apps_api)"
   ]
  },
  {
   "cell_type": "markdown",
   "metadata": {},
   "source": [
    "## How to create Service\n",
    "- https://github.com/kubernetes-client/python/blob/master/examples/notebooks/create_service.ipynb\n",
    "### 1. Load config"
   ]
  },
  {
   "cell_type": "code",
   "execution_count": 117,
   "metadata": {},
   "outputs": [
    {
     "data": {
      "text/plain": [
       "{'api_version': None,\n",
       " 'kind': None,\n",
       " 'metadata': None,\n",
       " 'spec': None,\n",
       " 'status': None}"
      ]
     },
     "execution_count": 117,
     "metadata": {},
     "output_type": "execute_result"
    }
   ],
   "source": [
    "from kubernetes import client, config\n",
    "\n",
    "LABELS = {\"app\": \"nginx\"}\n",
    "SERVICE_NAME = \"nginx-service\"\n",
    "\n",
    "config.load_kube_config()\n",
    "api_instance = client.CoreV1Api()\n",
    "service = client.V1Service()\n",
    "\n",
    "service"
   ]
  },
  {
   "cell_type": "markdown",
   "metadata": {},
   "source": [
    "### 2. Create API resource instance with Service .spec description\n",
    "We define `NodePort` to expose the service.Then we can access this service with `http://<minikube ip>:<node_port>`.\n",
    "\n",
    "For example, run the following command in the terminal running minikube.\n",
    "```\n",
    "% minikube ip\n",
    "192.168.64.4\n",
    "```\n",
    "Then you can access `http://192.168.64.4:32000/` "
   ]
  },
  {
   "cell_type": "code",
   "execution_count": 142,
   "metadata": {
    "scrolled": true
   },
   "outputs": [
    {
     "data": {
      "text/plain": [
       "{'api_version': 'v1',\n",
       " 'kind': 'Service',\n",
       " 'metadata': {'annotations': None,\n",
       "              'cluster_name': None,\n",
       "              'creation_timestamp': None,\n",
       "              'deletion_grace_period_seconds': None,\n",
       "              'deletion_timestamp': None,\n",
       "              'finalizers': None,\n",
       "              'generate_name': None,\n",
       "              'generation': None,\n",
       "              'labels': None,\n",
       "              'managed_fields': None,\n",
       "              'name': 'nginx-service',\n",
       "              'namespace': None,\n",
       "              'owner_references': None,\n",
       "              'resource_version': None,\n",
       "              'self_link': None,\n",
       "              'uid': None},\n",
       " 'spec': {'cluster_ip': None,\n",
       "          'external_i_ps': None,\n",
       "          'external_name': None,\n",
       "          'external_traffic_policy': None,\n",
       "          'health_check_node_port': None,\n",
       "          'ip_family': None,\n",
       "          'load_balancer_ip': None,\n",
       "          'load_balancer_source_ranges': None,\n",
       "          'ports': [{'name': None,\n",
       "                     'node_port': 32000,\n",
       "                     'port': 8080,\n",
       "                     'protocol': 'TCP',\n",
       "                     'target_port': 80}],\n",
       "          'publish_not_ready_addresses': None,\n",
       "          'selector': {'app': 'nginx'},\n",
       "          'session_affinity': None,\n",
       "          'session_affinity_config': None,\n",
       "          'type': 'NodePort'},\n",
       " 'status': None}"
      ]
     },
     "execution_count": 142,
     "metadata": {},
     "output_type": "execute_result"
    }
   ],
   "source": [
    "service.api_version = \"v1\"\n",
    "service.kind = \"Service\"\n",
    "service.metadata = client.V1ObjectMeta(name=SERVICE_NAME)\n",
    "\n",
    "spec = client.V1ServiceSpec()\n",
    "spec.selector = LABELS\n",
    "spec.type = \"NodePort\"\n",
    "spec.ports = [client.V1ServicePort(protocol=\"TCP\", port=8080, target_port=80, node_port=32000)]\n",
    "service.spec = spec\n",
    "\n",
    "service"
   ]
  },
  {
   "cell_type": "markdown",
   "metadata": {},
   "source": [
    "### 3. Create Service"
   ]
  },
  {
   "cell_type": "code",
   "execution_count": 141,
   "metadata": {
    "scrolled": true
   },
   "outputs": [
    {
     "data": {
      "text/plain": [
       "{'api_version': 'v1',\n",
       " 'kind': 'Service',\n",
       " 'metadata': {'annotations': None,\n",
       "              'cluster_name': None,\n",
       "              'creation_timestamp': datetime.datetime(2021, 5, 24, 22, 42, 18, tzinfo=tzutc()),\n",
       "              'deletion_grace_period_seconds': None,\n",
       "              'deletion_timestamp': None,\n",
       "              'finalizers': None,\n",
       "              'generate_name': None,\n",
       "              'generation': None,\n",
       "              'labels': None,\n",
       "              'managed_fields': [{'api_version': 'v1',\n",
       "                                  'fields_type': 'FieldsV1',\n",
       "                                  'fields_v1': {'f:spec': {'f:externalTrafficPolicy': {},\n",
       "                                                           'f:ports': {'.': {},\n",
       "                                                                       'k:{\"port\":8080,\"protocol\":\"TCP\"}': {'.': {},\n",
       "                                                                                                            'f:nodePort': {},\n",
       "                                                                                                            'f:port': {},\n",
       "                                                                                                            'f:protocol': {},\n",
       "                                                                                                            'f:targetPort': {}}},\n",
       "                                                           'f:selector': {'.': {},\n",
       "                                                                          'f:app': {}},\n",
       "                                                           'f:sessionAffinity': {},\n",
       "                                                           'f:type': {}}},\n",
       "                                  'manager': 'OpenAPI-Generator',\n",
       "                                  'operation': 'Update',\n",
       "                                  'time': datetime.datetime(2021, 5, 24, 22, 42, 18, tzinfo=tzutc())}],\n",
       "              'name': 'nginx-service',\n",
       "              'namespace': 'default',\n",
       "              'owner_references': None,\n",
       "              'resource_version': '1869141',\n",
       "              'self_link': None,\n",
       "              'uid': '89933e42-f5ec-4a5a-9aea-3366ae9f03fd'},\n",
       " 'spec': {'cluster_ip': '10.108.217.87',\n",
       "          'external_i_ps': None,\n",
       "          'external_name': None,\n",
       "          'external_traffic_policy': 'Cluster',\n",
       "          'health_check_node_port': None,\n",
       "          'ip_family': None,\n",
       "          'load_balancer_ip': None,\n",
       "          'load_balancer_source_ranges': None,\n",
       "          'ports': [{'name': None,\n",
       "                     'node_port': 32000,\n",
       "                     'port': 8080,\n",
       "                     'protocol': 'TCP',\n",
       "                     'target_port': 80}],\n",
       "          'publish_not_ready_addresses': None,\n",
       "          'selector': {'app': 'nginx'},\n",
       "          'session_affinity': 'None',\n",
       "          'session_affinity_config': None,\n",
       "          'type': 'NodePort'},\n",
       " 'status': {'load_balancer': {'ingress': None}}}"
      ]
     },
     "execution_count": 141,
     "metadata": {},
     "output_type": "execute_result"
    }
   ],
   "source": [
    "api_instance.create_namespaced_service(namespace=\"default\", body=service)"
   ]
  },
  {
   "cell_type": "markdown",
   "metadata": {},
   "source": [
    "### 4. Delete Service"
   ]
  },
  {
   "cell_type": "code",
   "execution_count": 137,
   "metadata": {
    "scrolled": true
   },
   "outputs": [
    {
     "data": {
      "text/plain": [
       "{'api_version': 'v1',\n",
       " 'code': None,\n",
       " 'details': {'causes': None,\n",
       "             'group': None,\n",
       "             'kind': 'services',\n",
       "             'name': 'nginx-service',\n",
       "             'retry_after_seconds': None,\n",
       "             'uid': '120f4dc7-4379-463f-806c-be178275fe63'},\n",
       " 'kind': 'Status',\n",
       " 'message': None,\n",
       " 'metadata': {'_continue': None,\n",
       "              'remaining_item_count': None,\n",
       "              'resource_version': None,\n",
       "              'self_link': None},\n",
       " 'reason': None,\n",
       " 'status': 'Success'}"
      ]
     },
     "execution_count": 137,
     "metadata": {},
     "output_type": "execute_result"
    }
   ],
   "source": [
    "api_instance.delete_namespaced_service(name=SERVICE_NAME, namespace=\"default\")"
   ]
  },
  {
   "cell_type": "markdown",
   "metadata": {},
   "source": [
    "## Dependency\n",
    "- clowder - mongo\n",
    "- need to prepare volumn?"
   ]
  },
  {
   "cell_type": "code",
   "execution_count": 7,
   "metadata": {},
   "outputs": [
    {
     "data": {
      "text/plain": [
       "{'key': 'mongo',\n",
       " 'label': 'MongoDB',\n",
       " 'image': {'name': 'mongo', 'tags': ['3.2.4']},\n",
       " 'description': 'A cross-platform document-oriented NoSQL database',\n",
       " 'display': 'standalone',\n",
       " 'access': 'internal',\n",
       " 'ports': [{'port': 27017, 'protocol': 'tcp'}],\n",
       " 'volumeMounts': [{'mountPath': '/data/db'}],\n",
       " 'resourceLimits': {'cpuMax': 500,\n",
       "  'cpuDefault': 100,\n",
       "  'memMax': 250,\n",
       "  'memDefault': 100},\n",
       " 'readinessProbe': {'type': 'tcp',\n",
       "  'path': '',\n",
       "  'port': 27017,\n",
       "  'initialDelay': 10,\n",
       "  'timeout': 60},\n",
       " 'repositories': [{'type': 'git', 'url': 'https://github.com/mongodb/mongo'}],\n",
       " 'logo': '/asset/png/logos/mongodb-logo.jpg',\n",
       " 'info': 'https://nationaldataservice.atlassian.net/wiki/display/NDSC/MongoDB',\n",
       " 'tags': ['24']}"
      ]
     },
     "execution_count": 7,
     "metadata": {},
     "output_type": "execute_result"
    }
   ],
   "source": [
    "import json\n",
    "\n",
    "with open('mongo.json') as json_file:\n",
    "    data = json.load(json_file)\n",
    "\n",
    "data"
   ]
  },
  {
   "cell_type": "code",
   "execution_count": 8,
   "metadata": {
    "scrolled": true
   },
   "outputs": [
    {
     "data": {
      "text/plain": [
       "{'label': 'Clowder',\n",
       " 'key': 'clowder',\n",
       " 'description': 'A scalable data repository where you can share, organize and analyze data.',\n",
       " 'image': {'name': 'clowder/clowder',\n",
       "  'tags': ['1.1.1',\n",
       "   '1.0.1',\n",
       "   '1.0',\n",
       "   '0.9.5',\n",
       "   '0.9.4.2',\n",
       "   '0.9.4.1',\n",
       "   '0.9.4',\n",
       "   'latest']},\n",
       " 'display': 'stack',\n",
       " 'access': 'external',\n",
       " 'logo': '/asset/png/logos/clowder-logo.png',\n",
       " 'depends': [{'key': 'mongo', 'required': True},\n",
       "  {'key': 'rabbitmq', 'required': False},\n",
       "  {'key': 'elasticsearch', 'required': False},\n",
       "  {'key': 'imagepreview', 'required': False},\n",
       "  {'key': 'imagemetadata', 'required': False},\n",
       "  {'key': 'pdfpreview', 'required': False},\n",
       "  {'key': 'audiopreview', 'required': False},\n",
       "  {'key': 'speech2text', 'required': False},\n",
       "  {'key': 'videopreview', 'required': False},\n",
       "  {'key': 'plantcv', 'required': False},\n",
       "  {'key': 'digestextractor', 'required': False},\n",
       "  {'key': 'officepreview', 'required': False}],\n",
       " 'config': [{'name': 'SMTP_HOST',\n",
       "   'value': 'outbound.ucsd.edu',\n",
       "   'canOverride': True},\n",
       "  {'name': 'ELASTICSEARCH_CLUSTERNAME',\n",
       "   'value': 'clowder',\n",
       "   'canOverride': False},\n",
       "  {'name': 'RABBITMQ_EXCHANGE', 'value': 'clowder', 'canOverride': False},\n",
       "  {'name': 'TOOLMANAGER_URI',\n",
       "   'value': 'http://localhost:8082',\n",
       "   'label': 'ToolServer address',\n",
       "   'canOverride': True}],\n",
       " 'ports': [{'port': 9000, 'protocol': 'http', 'contextPath': '/'}],\n",
       " 'resourceLimits': {'cpuMax': 200,\n",
       "  'cpuDefault': 100,\n",
       "  'memMax': 1000,\n",
       "  'memDefault': 250},\n",
       " 'readinessProbe': {'type': 'http',\n",
       "  'path': '/assets/stylesheets/main.css',\n",
       "  'port': 9000,\n",
       "  'initialDelay': 10,\n",
       "  'timeout': 60},\n",
       " 'repositories': [{'url': 'https://opensource.ncsa.illinois.edu/bitbucket/scm/cats/clowder.git',\n",
       "   'type': 'git'}],\n",
       " 'info': 'https://nationaldataservice.atlassian.net/wiki/display/NDSC/Clowder',\n",
       " 'tags': ['2', '22', '36']}"
      ]
     },
     "execution_count": 8,
     "metadata": {},
     "output_type": "execute_result"
    }
   ],
   "source": [
    "with open('clowder.json') as json_file:\n",
    "    data = json.load(json_file)\n",
    "\n",
    "data"
   ]
  },
  {
   "cell_type": "markdown",
   "metadata": {},
   "source": [
    "https://github.com/kubernetes-client/python/blob/master/kubernetes/README.md"
   ]
  },
  {
   "cell_type": "code",
   "execution_count": null,
   "metadata": {},
   "outputs": [],
   "source": []
  }
 ],
 "metadata": {
  "kernelspec": {
   "display_name": "Python 3",
   "language": "python",
   "name": "python3"
  },
  "language_info": {
   "codemirror_mode": {
    "name": "ipython",
    "version": 3
   },
   "file_extension": ".py",
   "mimetype": "text/x-python",
   "name": "python",
   "nbconvert_exporter": "python",
   "pygments_lexer": "ipython3",
   "version": "3.8.5"
  }
 },
 "nbformat": 4,
 "nbformat_minor": 4
}
