{
 "cells": [
  {
   "cell_type": "markdown",
   "metadata": {},
   "source": [
    "# How to use the kube client in api server\n",
    "The existing workbench leveraged `ReplicationController`(https://kubernetes.io/docs/concepts/workloads/controllers/replicationcontroller/). At this point, a `Deployment` that configures a `ReplicaSet` is now the recommended way to set up replication.\n",
    "https://kubernetes.io/docs/concepts/workloads/controllers/deployment/\n",
    "- [Access Clusters Using the Kubernetes API](https://kubernetes.io/docs/tasks/administer-cluster/access-cluster-api/)\n",
    "- [Python Client github](https://github.com/kubernetes-client/python)\n",
    "- [Python Client readthedocs](https://readthedocs.org/projects/kubernetes/)"
   ]
  },
  {
   "cell_type": "markdown",
   "metadata": {},
   "source": [
    "## Check running kube cluster"
   ]
  },
  {
   "cell_type": "code",
   "execution_count": 1,
   "metadata": {},
   "outputs": [
    {
     "name": "stdout",
     "output_type": "stream",
     "text": [
      "Listing pods with their IPs:\n",
      "172.17.0.8\tRunning\tdefault\towncloud-deployment-7dc9db4f94-4l5cf\n",
      "172.17.0.2\tRunning\tkube-system\tcoredns-74ff55c5b-l6t4s\n",
      "192.168.64.4\tRunning\tkube-system\tetcd-minikube\n",
      "172.17.0.5\tRunning\tkube-system\tingress-nginx-controller-65cf89dc4f-s2t59\n",
      "192.168.64.4\tRunning\tkube-system\tkube-apiserver-minikube\n",
      "192.168.64.4\tRunning\tkube-system\tkube-controller-manager-minikube\n",
      "192.168.64.4\tRunning\tkube-system\tkube-proxy-swdlv\n",
      "192.168.64.4\tRunning\tkube-system\tkube-scheduler-minikube\n",
      "172.17.0.7\tRunning\tkube-system\tnfs-provisioner-76b9b4576-9gl9h\n",
      "None\tFailed\tkube-system\tnfs-provisioner-76b9b4576-d5rkh\n",
      "192.168.64.4\tRunning\tkube-system\tstorage-provisioner\n",
      "172.17.0.4\tRunning\tkubernetes-dashboard\tdashboard-metrics-scraper-f6647bd8c-cxbmn\n",
      "172.17.0.3\tRunning\tkubernetes-dashboard\tkubernetes-dashboard-968bcb79-gc4xp\n"
     ]
    }
   ],
   "source": [
    "from kubernetes import client, config\n",
    "\n",
    "# Configs can be set in Configuration class directly or using helper utility\n",
    "config.load_kube_config()\n",
    "\n",
    "v1 = client.CoreV1Api()\n",
    "print(\"Listing pods with their IPs:\")\n",
    "ret = v1.list_pod_for_all_namespaces(watch=False)\n",
    "for i in ret.items:\n",
    "    print(\"%s\\t%s\\t%s\\t%s\" % (i.status.pod_ip, i.status.phase, i.metadata.namespace, i.metadata.name))"
   ]
  },
  {
   "cell_type": "code",
   "execution_count": 2,
   "metadata": {},
   "outputs": [
    {
     "name": "stdout",
     "output_type": "stream",
     "text": [
      "Supported APIs (* is preferred version):\n",
      "core                                     v1\n",
      "apiregistration.k8s.io                   *v1,v1beta1\n",
      "apps                                     v1\n",
      "events.k8s.io                            *v1,v1beta1\n",
      "authentication.k8s.io                    *v1,v1beta1\n",
      "authorization.k8s.io                     *v1,v1beta1\n",
      "autoscaling                              *v1,v2beta1,v2beta2\n",
      "batch                                    *v1,v1beta1\n",
      "certificates.k8s.io                      *v1,v1beta1\n",
      "networking.k8s.io                        *v1,v1beta1\n",
      "extensions                               v1beta1\n",
      "policy                                   v1beta1\n",
      "rbac.authorization.k8s.io                *v1,v1beta1\n",
      "storage.k8s.io                           *v1,v1beta1\n",
      "admissionregistration.k8s.io             *v1,v1beta1\n",
      "apiextensions.k8s.io                     *v1,v1beta1\n",
      "scheduling.k8s.io                        *v1,v1beta1\n",
      "coordination.k8s.io                      *v1,v1beta1\n",
      "node.k8s.io                              *v1,v1beta1\n",
      "discovery.k8s.io                         v1beta1\n",
      "flowcontrol.apiserver.k8s.io             v1beta1\n"
     ]
    }
   ],
   "source": [
    "from kubernetes import client, config\n",
    "\n",
    "\n",
    "def main():\n",
    "    # Configs can be set in Configuration class directly or using helper\n",
    "    # utility. If no argument provided, the config will be loaded from\n",
    "    # default location.\n",
    "    config.load_kube_config()\n",
    "\n",
    "    print(\"Supported APIs (* is preferred version):\")\n",
    "    print(\"%-40s %s\" %\n",
    "          (\"core\", \",\".join(client.CoreApi().get_api_versions().versions)))\n",
    "    for api in client.ApisApi().get_api_versions().groups:\n",
    "        versions = []\n",
    "        for v in api.versions:\n",
    "            name = \"\"\n",
    "            if v.version == api.preferred_version.version and len(\n",
    "                    api.versions) > 1:\n",
    "                name += \"*\"\n",
    "            name += v.version\n",
    "            versions.append(name)\n",
    "        print(\"%-40s %s\" % (api.name, \",\".join(versions)))\n",
    "\n",
    "\n",
    "if __name__ == '__main__':\n",
    "    main()"
   ]
  },
  {
   "cell_type": "markdown",
   "metadata": {},
   "source": [
    "## How to create a Deployment\n",
    "- https://github.com/kubernetes-client/python/blob/master/examples/notebooks/create_deployment.ipynb"
   ]
  },
  {
   "cell_type": "markdown",
   "metadata": {},
   "source": [
    "### 1. Load config"
   ]
  },
  {
   "cell_type": "code",
   "execution_count": 3,
   "metadata": {},
   "outputs": [
    {
     "data": {
      "text/plain": [
       "<kubernetes.client.api.apps_v1_api.AppsV1Api at 0x111ad7760>"
      ]
     },
     "execution_count": 3,
     "metadata": {},
     "output_type": "execute_result"
    }
   ],
   "source": [
    "from kubernetes import client, config\n",
    "\n",
    "LABELS = {\"app\": \"nginx\"}\n",
    "DEPLOYMENT_NAME = \"nginx-deployment\"\n",
    "\n",
    "# Load config from default location\n",
    "config.load_kube_config()\n",
    "apps_api = client.AppsV1Api()\n",
    "\n",
    "apps_api"
   ]
  },
  {
   "cell_type": "markdown",
   "metadata": {},
   "source": [
    "### 2. Pod container"
   ]
  },
  {
   "cell_type": "code",
   "execution_count": 4,
   "metadata": {},
   "outputs": [],
   "source": [
    "# Configure Pod template container\n",
    "container = client.V1Container(\n",
    "    name = \"nginx\",\n",
    "    image=\"nginx:1.15.4\",\n",
    "    ports=[client.V1ContainerPort(container_port=80)],\n",
    "    resources=client.V1ResourceRequirements(\n",
    "        requests={\"cpu\": \"100m\", \"memory\":\"200Mi\"},\n",
    "        limits={\"cpu\": \"500m\", \"memory\":\"500Mi\"},\n",
    "    ),\n",
    ")\n",
    "\n",
    "#container"
   ]
  },
  {
   "cell_type": "markdown",
   "metadata": {},
   "source": [
    "### 3. Spec section"
   ]
  },
  {
   "cell_type": "code",
   "execution_count": 5,
   "metadata": {},
   "outputs": [],
   "source": [
    "template = client.V1PodTemplateSpec(\n",
    "    metadata=client.V1ObjectMeta(labels=LABELS),\n",
    "    spec=client.V1PodSpec(containers=[container]),\n",
    ")\n",
    "\n",
    "#template"
   ]
  },
  {
   "cell_type": "markdown",
   "metadata": {},
   "source": [
    "### 4. Specification of deployment"
   ]
  },
  {
   "cell_type": "code",
   "execution_count": 6,
   "metadata": {},
   "outputs": [],
   "source": [
    "spec = client.V1DeploymentSpec(\n",
    "    replicas=1,\n",
    "    template=template,\n",
    "    selector=client.V1LabelSelector(match_labels=LABELS)\n",
    ")\n",
    "\n",
    "#spec"
   ]
  },
  {
   "cell_type": "markdown",
   "metadata": {},
   "source": [
    "### 5. Instantiate the deployment object"
   ]
  },
  {
   "cell_type": "code",
   "execution_count": 7,
   "metadata": {},
   "outputs": [],
   "source": [
    "deployment = client.V1Deployment(\n",
    "    api_version=\"apps/v1\",\n",
    "    kind=\"Deployment\",\n",
    "    metadata=client.V1ObjectMeta(name=DEPLOYMENT_NAME),\n",
    "    spec=spec,\n",
    ")\n",
    "\n",
    "#deployment"
   ]
  },
  {
   "cell_type": "markdown",
   "metadata": {},
   "source": [
    "### 6. Create deployment"
   ]
  },
  {
   "cell_type": "code",
   "execution_count": 8,
   "metadata": {},
   "outputs": [],
   "source": [
    "def create_deployment(api, deployment):\n",
    "    # Create deployement\n",
    "    resp = api.create_namespaced_deployment(\n",
    "        body=deployment, namespace=\"default\"\n",
    "    )\n",
    "\n",
    "    print(\"\\n[INFO] deployment `nginx-deployment` created.\\n\")\n",
    "    print(\"%s\\t%s\\t\\t\\t%s\\t%s\" % (\"NAMESPACE\", \"NAME\", \"REVISION\", \"IMAGE\"))\n",
    "    print(\n",
    "        \"%s\\t\\t%s\\t%s\\t\\t%s\\n\"\n",
    "        % (\n",
    "            resp.metadata.namespace,\n",
    "            resp.metadata.name,\n",
    "            resp.metadata.generation,\n",
    "            resp.spec.template.spec.containers[0].image,\n",
    "        )\n",
    "    )\n"
   ]
  },
  {
   "cell_type": "code",
   "execution_count": 9,
   "metadata": {},
   "outputs": [
    {
     "name": "stdout",
     "output_type": "stream",
     "text": [
      "\n",
      "[INFO] deployment `nginx-deployment` created.\n",
      "\n",
      "NAMESPACE\tNAME\t\t\tREVISION\tIMAGE\n",
      "default\t\tnginx-deployment\t1\t\tnginx:1.15.4\n",
      "\n"
     ]
    }
   ],
   "source": [
    "create_deployment(apps_api, deployment)"
   ]
  },
  {
   "cell_type": "markdown",
   "metadata": {},
   "source": [
    "### 7. Delete deployment"
   ]
  },
  {
   "cell_type": "code",
   "execution_count": null,
   "metadata": {},
   "outputs": [],
   "source": [
    "def delete_deployment(api):\n",
    "    # Delete deployment\n",
    "    resp = api.delete_namespaced_deployment(\n",
    "        name=DEPLOYMENT_NAME,\n",
    "        namespace=\"default\",\n",
    "        body=client.V1DeleteOptions(\n",
    "            propagation_policy=\"Foreground\", grace_period_seconds=5\n",
    "        ),\n",
    "    )\n",
    "    print(\"\\n[INFO] deployment `nginx-deployment` deleted.\")\n"
   ]
  },
  {
   "cell_type": "code",
   "execution_count": null,
   "metadata": {
    "scrolled": true
   },
   "outputs": [],
   "source": [
    "delete_deployment(apps_api)"
   ]
  },
  {
   "cell_type": "markdown",
   "metadata": {},
   "source": [
    "## How to create Service\n",
    "- https://github.com/kubernetes-client/python/blob/master/examples/notebooks/create_service.ipynb\n",
    "### 1. Load config"
   ]
  },
  {
   "cell_type": "code",
   "execution_count": 10,
   "metadata": {},
   "outputs": [
    {
     "data": {
      "text/plain": [
       "{'api_version': None,\n",
       " 'kind': None,\n",
       " 'metadata': None,\n",
       " 'spec': None,\n",
       " 'status': None}"
      ]
     },
     "execution_count": 10,
     "metadata": {},
     "output_type": "execute_result"
    }
   ],
   "source": [
    "from kubernetes import client, config\n",
    "\n",
    "LABELS = {\"app\": \"nginx\"}\n",
    "SERVICE_NAME = \"nginx-service\"\n",
    "\n",
    "config.load_kube_config()\n",
    "api_instance = client.CoreV1Api()\n",
    "service = client.V1Service()\n",
    "\n",
    "service"
   ]
  },
  {
   "cell_type": "markdown",
   "metadata": {},
   "source": [
    "### 2. Create API resource instance with Service .spec description\n",
    "We define `NodePort` to expose the service.Then we can access this service with `http://<minikube ip>:<node_port>`.\n",
    "\n",
    "For example, run the following command in the terminal running minikube.\n",
    "```\n",
    "% minikube ip\n",
    "192.168.64.4\n",
    "```\n",
    "Then you can access `http://192.168.64.4:32000/` "
   ]
  },
  {
   "cell_type": "code",
   "execution_count": 11,
   "metadata": {
    "scrolled": true
   },
   "outputs": [],
   "source": [
    "service.api_version = \"v1\"\n",
    "service.kind = \"Service\"\n",
    "service.metadata = client.V1ObjectMeta(name=SERVICE_NAME)\n",
    "\n",
    "spec = client.V1ServiceSpec()\n",
    "spec.selector = LABELS\n",
    "spec.type = \"NodePort\"\n",
    "spec.ports = [client.V1ServicePort(protocol=\"TCP\", port=8080, target_port=80, node_port=32000)]\n",
    "service.spec = spec\n",
    "\n",
    "#service"
   ]
  },
  {
   "cell_type": "markdown",
   "metadata": {},
   "source": [
    "### 3. Create Service"
   ]
  },
  {
   "cell_type": "code",
   "execution_count": 12,
   "metadata": {
    "scrolled": true
   },
   "outputs": [
    {
     "data": {
      "text/plain": [
       "{'api_version': 'v1',\n",
       " 'kind': 'Service',\n",
       " 'metadata': {'annotations': None,\n",
       "              'cluster_name': None,\n",
       "              'creation_timestamp': datetime.datetime(2021, 5, 31, 21, 4, 28, tzinfo=tzutc()),\n",
       "              'deletion_grace_period_seconds': None,\n",
       "              'deletion_timestamp': None,\n",
       "              'finalizers': None,\n",
       "              'generate_name': None,\n",
       "              'generation': None,\n",
       "              'labels': None,\n",
       "              'managed_fields': [{'api_version': 'v1',\n",
       "                                  'fields_type': 'FieldsV1',\n",
       "                                  'fields_v1': {'f:spec': {'f:externalTrafficPolicy': {},\n",
       "                                                           'f:ports': {'.': {},\n",
       "                                                                       'k:{\"port\":8080,\"protocol\":\"TCP\"}': {'.': {},\n",
       "                                                                                                            'f:nodePort': {},\n",
       "                                                                                                            'f:port': {},\n",
       "                                                                                                            'f:protocol': {},\n",
       "                                                                                                            'f:targetPort': {}}},\n",
       "                                                           'f:selector': {'.': {},\n",
       "                                                                          'f:app': {}},\n",
       "                                                           'f:sessionAffinity': {},\n",
       "                                                           'f:type': {}}},\n",
       "                                  'manager': 'OpenAPI-Generator',\n",
       "                                  'operation': 'Update',\n",
       "                                  'time': datetime.datetime(2021, 5, 31, 21, 4, 28, tzinfo=tzutc())}],\n",
       "              'name': 'nginx-service',\n",
       "              'namespace': 'default',\n",
       "              'owner_references': None,\n",
       "              'resource_version': '2137883',\n",
       "              'self_link': None,\n",
       "              'uid': 'ef057e88-6b96-454a-910d-6606d918d906'},\n",
       " 'spec': {'cluster_ip': '10.108.205.233',\n",
       "          'external_i_ps': None,\n",
       "          'external_name': None,\n",
       "          'external_traffic_policy': 'Cluster',\n",
       "          'health_check_node_port': None,\n",
       "          'ip_family': None,\n",
       "          'load_balancer_ip': None,\n",
       "          'load_balancer_source_ranges': None,\n",
       "          'ports': [{'name': None,\n",
       "                     'node_port': 32000,\n",
       "                     'port': 8080,\n",
       "                     'protocol': 'TCP',\n",
       "                     'target_port': 80}],\n",
       "          'publish_not_ready_addresses': None,\n",
       "          'selector': {'app': 'nginx'},\n",
       "          'session_affinity': 'None',\n",
       "          'session_affinity_config': None,\n",
       "          'type': 'NodePort'},\n",
       " 'status': {'load_balancer': {'ingress': None}}}"
      ]
     },
     "execution_count": 12,
     "metadata": {},
     "output_type": "execute_result"
    }
   ],
   "source": [
    "api_instance.create_namespaced_service(namespace=\"default\", body=service)"
   ]
  },
  {
   "cell_type": "markdown",
   "metadata": {},
   "source": [
    "### 4. Delete Service"
   ]
  },
  {
   "cell_type": "code",
   "execution_count": null,
   "metadata": {
    "scrolled": true
   },
   "outputs": [],
   "source": [
    "api_instance.delete_namespaced_service(name=SERVICE_NAME, namespace=\"default\")"
   ]
  },
  {
   "cell_type": "markdown",
   "metadata": {},
   "source": [
    "## Example: owncloud\n",
    "- Dependancy - How to run clowder with mongo using Python client?\n",
    "- Need to prepare volumn? before running pods, user volume need to be prepared.\n",
    "\n",
    "### 1. Load the ndslab json"
   ]
  },
  {
   "cell_type": "code",
   "execution_count": 13,
   "metadata": {},
   "outputs": [
    {
     "data": {
      "text/plain": [
       "{'key': 'owncloud',\n",
       " 'label': 'ownCloud',\n",
       " 'description': 'A self-hosted file sync and share server',\n",
       " 'logo': '/asset/png/logos/owncloud-logo.png',\n",
       " 'maintainer': '',\n",
       " 'image': {'registry': '', 'name': 'ndslabs/owncloud', 'tags': ['latest']},\n",
       " 'display': 'stack',\n",
       " 'access': 'external',\n",
       " 'depends': [{'key': 'mysql', 'required': False, 'shareConfig': False},\n",
       "  {'key': 'postgres', 'required': False, 'shareConfig': False}],\n",
       " 'ports': [{'port': 80, 'protocol': 'http'}],\n",
       " 'repositories': [{'url': 'https://github.com/owncloud/core', 'type': 'git'}],\n",
       " 'readinessProbe': {'type': 'http',\n",
       "  'path': '/core/img/favicon.ico',\n",
       "  'port': 80,\n",
       "  'initialDelay': 15,\n",
       "  'timeout': 120},\n",
       " 'volumeMounts': [{'type': '', 'mountPath': '/var/www/owncloud'}],\n",
       " 'resourceLimits': {'cpuMax': 500,\n",
       "  'cpuDefault': 100,\n",
       "  'memMax': 1000,\n",
       "  'memDefault': 50},\n",
       " 'developerEnvironment': 'cloud9php',\n",
       " 'tags': ['6', '11'],\n",
       " 'info': 'https://nationaldataservice.atlassian.net/wiki/display/NDSC/ownCloud'}"
      ]
     },
     "execution_count": 13,
     "metadata": {},
     "output_type": "execute_result"
    }
   ],
   "source": [
    "import json\n",
    "\n",
    "with open('owncloud.json') as json_file:\n",
    "    nds_spec = json.load(json_file)\n",
    "\n",
    "nds_spec"
   ]
  },
  {
   "cell_type": "markdown",
   "metadata": {},
   "source": [
    "### 2. Load config for deployment"
   ]
  },
  {
   "cell_type": "code",
   "execution_count": 14,
   "metadata": {},
   "outputs": [],
   "source": [
    "from kubernetes import client, config\n",
    "\n",
    "LABELS = {\"app\": nds_spec['label']}\n",
    "DEPLOYMENT_NAME = nds_spec['key']+\"-deployment\"\n",
    "SERVICE_NAME = nds_spec['key']+\"-service\"\n",
    "\n",
    "# Load config from default location\n",
    "config.load_kube_config()\n",
    "apps_api = client.AppsV1Api()"
   ]
  },
  {
   "cell_type": "markdown",
   "metadata": {},
   "source": [
    "### 3. Volume\n",
    "We can use the persistent volume, not an `emptyDir` volume in this example."
   ]
  },
  {
   "cell_type": "code",
   "execution_count": 15,
   "metadata": {},
   "outputs": [],
   "source": [
    "USER_ID = 'dynam'\n",
    "VOLUME_NAME = '{}-storage'.format(USER_ID)\n",
    "\n",
    "volume = client.V1Volume(\n",
    "    name = VOLUME_NAME,\n",
    "    empty_dir = client.V1EmptyDirVolumeSource(),\n",
    ")"
   ]
  },
  {
   "cell_type": "markdown",
   "metadata": {},
   "source": [
    "### 4. Pod container"
   ]
  },
  {
   "cell_type": "code",
   "execution_count": 16,
   "metadata": {},
   "outputs": [],
   "source": [
    "# Configure Pod template container\n",
    "container = client.V1Container(\n",
    "    name = nds_spec['key'],\n",
    "    image= nds_spec['image']['name']+\":\"+nds_spec['image']['tags'][0],\n",
    "    ports=[client.V1ContainerPort(container_port=nds_spec['ports'][0]['port'])],\n",
    "    resources=client.V1ResourceRequirements(\n",
    "        requests={\"cpu\": \"{}m\".format(nds_spec['resourceLimits']['cpuDefault']), \n",
    "                  \"memory\":\"{}Mi\".format(nds_spec['resourceLimits']['memDefault'])},\n",
    "        limits={\"cpu\": \"{}m\".format(nds_spec['resourceLimits']['cpuMax']), \n",
    "                \"memory\":\"{}Mi\".format(nds_spec['resourceLimits']['memMax'])},\n",
    "    ),\n",
    "    volume_mounts=[client.V1VolumeMount(name=VOLUME_NAME, mount_path=nds_spec['volumeMounts'][0]['mountPath'])],\n",
    ")\n",
    "\n",
    "#container"
   ]
  },
  {
   "cell_type": "markdown",
   "metadata": {},
   "source": [
    "### 5. Define Deployment"
   ]
  },
  {
   "cell_type": "code",
   "execution_count": 17,
   "metadata": {},
   "outputs": [],
   "source": [
    "template = client.V1PodTemplateSpec(\n",
    "    metadata=client.V1ObjectMeta(labels=LABELS),\n",
    "    spec=client.V1PodSpec(containers=[container], volumes=[volume]),\n",
    ")\n",
    "\n",
    "spec = client.V1DeploymentSpec(\n",
    "    replicas=1,\n",
    "    template=template,\n",
    "    selector=client.V1LabelSelector(match_labels=LABELS)\n",
    ")\n",
    "\n",
    "deployment = client.V1Deployment(\n",
    "    api_version=\"apps/v1\",\n",
    "    kind=\"Deployment\",\n",
    "    metadata=client.V1ObjectMeta(name=DEPLOYMENT_NAME),\n",
    "    spec=spec,\n",
    ")"
   ]
  },
  {
   "cell_type": "markdown",
   "metadata": {},
   "source": [
    "### 5. Create Deployment"
   ]
  },
  {
   "cell_type": "code",
   "execution_count": 18,
   "metadata": {},
   "outputs": [],
   "source": [
    "def create_deployment(api, deployment):\n",
    "    # Create deployement\n",
    "    resp = api.create_namespaced_deployment(\n",
    "        body=deployment, namespace=\"default\"\n",
    "    )\n",
    "\n",
    "    print(\"\\n[INFO] deployment `{}` created.\\n\".format(DEPLOYMENT_NAME))\n",
    "    print(\"%s\\t%s\\t\\t\\t%s\\t%s\" % (\"NAMESPACE\", \"NAME\", \"REVISION\", \"IMAGE\"))\n",
    "    print(\n",
    "        \"%s\\t\\t%s\\t%s\\t\\t%s\\n\"\n",
    "        % (\n",
    "            resp.metadata.namespace,\n",
    "            resp.metadata.name,\n",
    "            resp.metadata.generation,\n",
    "            resp.spec.template.spec.containers[0].image,\n",
    "        )\n",
    "    )\n",
    "\n",
    "def delete_deployment(api):\n",
    "    # Delete deployment\n",
    "    resp = api.delete_namespaced_deployment(\n",
    "        name=DEPLOYMENT_NAME,\n",
    "        namespace=\"default\",\n",
    "        body=client.V1DeleteOptions(\n",
    "            propagation_policy=\"Foreground\", grace_period_seconds=5\n",
    "        ),\n",
    "    )\n",
    "    print(\"\\n[INFO] deployment `{}` deleted.\".format(DEPLOYMENT_NAME))"
   ]
  },
  {
   "cell_type": "code",
   "execution_count": 19,
   "metadata": {},
   "outputs": [
    {
     "name": "stdout",
     "output_type": "stream",
     "text": [
      "\n",
      "[INFO] deployment `owncloud-deployment` created.\n",
      "\n",
      "NAMESPACE\tNAME\t\t\tREVISION\tIMAGE\n",
      "default\t\towncloud-deployment\t1\t\tndslabs/owncloud:latest\n",
      "\n"
     ]
    }
   ],
   "source": [
    "create_deployment(apps_api, deployment)"
   ]
  },
  {
   "cell_type": "markdown",
   "metadata": {},
   "source": [
    "### 6. Create Service\n",
    "After creating service, we can access `owncloud` with `http://192.168.64.4:32001/`."
   ]
  },
  {
   "cell_type": "code",
   "execution_count": 20,
   "metadata": {},
   "outputs": [
    {
     "data": {
      "text/plain": [
       "{'api_version': 'v1',\n",
       " 'kind': 'Service',\n",
       " 'metadata': {'annotations': None,\n",
       "              'cluster_name': None,\n",
       "              'creation_timestamp': datetime.datetime(2021, 5, 31, 21, 5, 2, tzinfo=tzutc()),\n",
       "              'deletion_grace_period_seconds': None,\n",
       "              'deletion_timestamp': None,\n",
       "              'finalizers': None,\n",
       "              'generate_name': None,\n",
       "              'generation': None,\n",
       "              'labels': None,\n",
       "              'managed_fields': [{'api_version': 'v1',\n",
       "                                  'fields_type': 'FieldsV1',\n",
       "                                  'fields_v1': {'f:spec': {'f:externalTrafficPolicy': {},\n",
       "                                                           'f:ports': {'.': {},\n",
       "                                                                       'k:{\"port\":8080,\"protocol\":\"TCP\"}': {'.': {},\n",
       "                                                                                                            'f:nodePort': {},\n",
       "                                                                                                            'f:port': {},\n",
       "                                                                                                            'f:protocol': {},\n",
       "                                                                                                            'f:targetPort': {}}},\n",
       "                                                           'f:selector': {'.': {},\n",
       "                                                                          'f:app': {}},\n",
       "                                                           'f:sessionAffinity': {},\n",
       "                                                           'f:type': {}}},\n",
       "                                  'manager': 'OpenAPI-Generator',\n",
       "                                  'operation': 'Update',\n",
       "                                  'time': datetime.datetime(2021, 5, 31, 21, 5, 2, tzinfo=tzutc())}],\n",
       "              'name': 'owncloud-service',\n",
       "              'namespace': 'default',\n",
       "              'owner_references': None,\n",
       "              'resource_version': '2137953',\n",
       "              'self_link': None,\n",
       "              'uid': '3aaeeb55-6372-4a01-b978-0bd4260a8f16'},\n",
       " 'spec': {'cluster_ip': '10.106.199.204',\n",
       "          'external_i_ps': None,\n",
       "          'external_name': None,\n",
       "          'external_traffic_policy': 'Cluster',\n",
       "          'health_check_node_port': None,\n",
       "          'ip_family': None,\n",
       "          'load_balancer_ip': None,\n",
       "          'load_balancer_source_ranges': None,\n",
       "          'ports': [{'name': None,\n",
       "                     'node_port': 32001,\n",
       "                     'port': 8080,\n",
       "                     'protocol': 'TCP',\n",
       "                     'target_port': 80}],\n",
       "          'publish_not_ready_addresses': None,\n",
       "          'selector': {'app': 'ownCloud'},\n",
       "          'session_affinity': 'None',\n",
       "          'session_affinity_config': None,\n",
       "          'type': 'NodePort'},\n",
       " 'status': {'load_balancer': {'ingress': None}}}"
      ]
     },
     "execution_count": 20,
     "metadata": {},
     "output_type": "execute_result"
    }
   ],
   "source": [
    "api_instance = client.CoreV1Api()\n",
    "\n",
    "service = client.V1Service()\n",
    "service.api_version = \"v1\"\n",
    "service.kind = \"Service\"\n",
    "service.metadata = client.V1ObjectMeta(name=SERVICE_NAME)\n",
    "\n",
    "spec = client.V1ServiceSpec()\n",
    "spec.selector = LABELS\n",
    "spec.type = \"NodePort\"\n",
    "spec.ports = [client.V1ServicePort(protocol=\"TCP\", port=8080, target_port=80, node_port=32001)]\n",
    "service.spec = spec\n",
    "\n",
    "api_instance.create_namespaced_service(namespace=\"default\", body=service)"
   ]
  },
  {
   "cell_type": "markdown",
   "metadata": {},
   "source": [
    "## Define the persistent volume (pv) and persistent volume claim (pvc)\n",
    "- In this example, we define 'Local storage'. Please see https://kubernetes.io/docs/concepts/storage/volumes/ for volumes in detail.\n",
    "### 1. Persistent volume"
   ]
  },
  {
   "cell_type": "code",
   "execution_count": 21,
   "metadata": {},
   "outputs": [],
   "source": [
    "from kubernetes import client\n",
    "\n",
    "USER_ID = 'dynam'\n",
    "pv_name = \"local-pv-{}\".format(USER_ID)\n",
    "\n",
    "pv = client.V1PersistentVolume(\n",
    "    api_version=\"v1\",\n",
    "    kind=\"PersistentVolume\",\n",
    "    metadata=client.V1ObjectMeta(\n",
    "        name=pv_name,\n",
    "        labels={'app': pv_name}\n",
    "    ),\n",
    "    spec=client.V1PersistentVolumeSpec(\n",
    "        access_modes=[\"ReadWriteMany\"],\n",
    "        capacity={'storage': '10Gi'},\n",
    "        volume_mode='Filesystem',\n",
    "        storage_class_name=\"local-storage\",\n",
    "        local=client.V1LocalVolumeSource(\n",
    "            path='/mnt/persistent-volume'\n",
    "        ),\n",
    "        node_affinity=client.V1VolumeNodeAffinity(\n",
    "            required=client.V1NodeSelector(\n",
    "                node_selector_terms=[\n",
    "                    client.V1NodeSelectorTerm(\n",
    "                        match_expressions=[\n",
    "                            client.V1NodeSelectorRequirement(\n",
    "                                key='kubernetes.io/hostname',\n",
    "                                operator='In',\n",
    "                                values=['minikube']\n",
    "                            )\n",
    "                        ]\n",
    "                    )\n",
    "                ]\n",
    "            )\n",
    "        ),\n",
    "    )\n",
    ")\n",
    "\n",
    "api_instance = client.CoreV1Api()\n",
    "\n",
    "try:\n",
    "    api_instance.create_persistent_volume(pv)\n",
    "except client.rest.ApiException as e:\n",
    "    print(\"Got exception: while creating the LOCAL PV\", e)"
   ]
  },
  {
   "cell_type": "markdown",
   "metadata": {},
   "source": [
    "### 2. Persistent volume claim"
   ]
  },
  {
   "cell_type": "code",
   "execution_count": 22,
   "metadata": {},
   "outputs": [],
   "source": [
    "pvc_name = \"local-pvc-{}\".format(USER_ID)\n",
    "\n",
    "pvc = client.V1PersistentVolumeClaim(\n",
    "    api_version=\"v1\",\n",
    "    kind=\"PersistentVolumeClaim\",\n",
    "    metadata=client.V1ObjectMeta(\n",
    "        name=pvc_name,\n",
    "        labels={'app': pv_name}\n",
    "    ),\n",
    "    spec=client.V1PersistentVolumeClaimSpec(\n",
    "        access_modes=[\"ReadWriteMany\"],\n",
    "        resources=client.V1ResourceRequirements(\n",
    "            requests={'storage': '10Gi'}\n",
    "        ),\n",
    "        selector=client.V1LabelSelector(\n",
    "            match_labels={'app': pv_name}\n",
    "        ),\n",
    "        storage_class_name=\"local-storage\"\n",
    "    )\n",
    ")\n",
    "\n",
    "try:\n",
    "    api_instance.create_namespaced_persistent_volume_claim('default',pvc)\n",
    "except client.rest.ApiException as e:\n",
    "    print(\"Got exception: %s\\n while creating the LOCAL PVC\", e)"
   ]
  },
  {
   "cell_type": "markdown",
   "metadata": {},
   "source": [
    "## Print the list of pvc"
   ]
  },
  {
   "cell_type": "code",
   "execution_count": 23,
   "metadata": {},
   "outputs": [],
   "source": [
    "from kubernetes import client, config\n",
    "\n",
    "config.load_kube_config()\n",
    "api_instance = client.CoreV1Api()\n",
    "\n",
    "pvcs = api_instance.list_namespaced_persistent_volume_claim(\n",
    "      namespace=\"default\", watch=False)\n",
    "\n",
    "#pvcs"
   ]
  },
  {
   "cell_type": "code",
   "execution_count": 24,
   "metadata": {},
   "outputs": [
    {
     "name": "stdout",
     "output_type": "stream",
     "text": [
      "---- PVCs ---\n",
      "Name            \tVolume                                  \tSize  \n",
      "local-pvc-dynam \tlocal-pv-dynam                          \t10Gi  \n"
     ]
    }
   ],
   "source": [
    "print(\"---- PVCs ---\")\n",
    "print(\"%-16s\\t%-40s\\t%-6s\" % (\"Name\", \"Volume\", \"Size\"))\n",
    "for pvc in pvcs.items:\n",
    "    print(\"%-16s\\t%-40s\\t%-6s\" %\n",
    "        (pvc.metadata.name, pvc.spec.volume_name,    \n",
    "        pvc.spec.resources.requests['storage']))"
   ]
  },
  {
   "cell_type": "code",
   "execution_count": null,
   "metadata": {},
   "outputs": [],
   "source": []
  }
 ],
 "metadata": {
  "kernelspec": {
   "display_name": "Python 3",
   "language": "python",
   "name": "python3"
  },
  "language_info": {
   "codemirror_mode": {
    "name": "ipython",
    "version": 3
   },
   "file_extension": ".py",
   "mimetype": "text/x-python",
   "name": "python",
   "nbconvert_exporter": "python",
   "pygments_lexer": "ipython3",
   "version": "3.8.5"
  }
 },
 "nbformat": 4,
 "nbformat_minor": 4
}
